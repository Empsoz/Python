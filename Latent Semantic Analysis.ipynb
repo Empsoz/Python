{
 "metadata": {
  "name": "",
  "signature": "sha256:afaeddd38984c443a52d2761b6d318cebc2a1fa9f94db5cf7bdd74009402b97c"
 },
 "nbformat": 3,
 "nbformat_minor": 0,
 "worksheets": [
  {
   "cells": [
    {
     "cell_type": "markdown",
     "metadata": {},
     "source": [
      "#Latent Semantic Analysis\n",
      "\n",
      "Gregor Czerner\n",
      "\n",
      "E-Mail: g.cz@gmx.de \n"
     ]
    },
    {
     "cell_type": "markdown",
     "metadata": {},
     "source": [
      "Ziel dieser Arbeit ist es, eine latente Semantikanalyse durchzuf\u00fchren. In diesem Verfahren wird angenommen, dass hinter den einzelnen Dokumenten latente Konzepte stehen, die zur Analyse und zum Vergleich der Texte dienen k\u00f6nnen. Im Gegensatz zu klassischen Verfahren der Klassifizierung wird in diesem Verfahren das Problem der Mehrdeutigkeit von Begriffen (polysemy) und die zahlreichen unterschiedlichen M\u00f6glichkeiten zur Beschreibung ein und desselben Objekts (synonymy) ber\u00fccksichtigt (Deerwester 1990, S.391f).\n",
      "Hierf\u00fcr werden die einzelnen Worte und Texte in einen Vektorraum projeziert, in denen sie auf \u00c4hnlichkeiten untersucht werden."
     ]
    },
    {
     "cell_type": "code",
     "collapsed": false,
     "input": [
      "import nltk\n",
      "import pickle\n",
      "from nltk.corpus import stopwords, reuters\n",
      "stopwords = stopwords.words('english') \n",
      "\n",
      "\n",
      "from gensim import corpora, models, similarities\n",
      "from nltk.corpus import reuters\n",
      "import  matplotlib\n",
      "%matplotlib inline"
     ],
     "language": "python",
     "metadata": {},
     "outputs": [],
     "prompt_number": 16
    },
    {
     "cell_type": "code",
     "collapsed": false,
     "input": [
      "print len(reuters.fileids())"
     ],
     "language": "python",
     "metadata": {},
     "outputs": [
      {
       "output_type": "stream",
       "stream": "stdout",
       "text": [
        "10788\n"
       ]
      }
     ],
     "prompt_number": 17
    },
    {
     "cell_type": "markdown",
     "metadata": {},
     "source": [
      "Beim Reuters Korpus handelt es sich um einen Korpus f\u00fcr Textklassifikationen, der 10788 Zeitungsartikel aus der Reuters Nachrichtendienst f\u00fcr Finanzen umfasst (http://www.reuters.com/).\n",
      "\n",
      "Die einzelnen Artikel sind in einen Test und Trainig Korpus und 90 Klassen unterteilt. Die Klassifikation spielt f\u00fcr diese Arbeit keine Rolle.\n",
      "\n",
      "Zun\u00e4chst sollten die einzelnen Texte um sogenannte stopwords wie and, or usw. bereinigt werden, die sich st\u00f6rend auf die weitere Analyse auswirken k\u00f6nnten. Am Beispiel von Artikel 2 kann der Unterschied zwischen dem bereinigten und dem urspr\u00fcnglichen Text betrachtet werden. Zudem werden die Texte im folgenden tokenisiert, klein geschrieben und auf alphanumerische Zeichen beschr\u00e4nkt. Desweiteren wurde entschieden lediglich Tokens mit einer Mindestl\u00e4nge von 2 Zeichen mit in die Analyse aufzunehmen, um weitere St\u00f6relemente herauszufiltern."
     ]
    },
    {
     "cell_type": "code",
     "collapsed": false,
     "input": [
      "#Vorher 207, z.T. gro\u00df geschrieben\n",
      "articles = [[text for text in reuters.words(fileids=fid)]\n",
      "           for fid in reuters.fileids()]\n",
      "print articles[2],  len(articles[2])"
     ],
     "language": "python",
     "metadata": {},
     "outputs": [
      {
       "output_type": "stream",
       "stream": "stdout",
       "text": [
        "[u'JAPAN', u'TO', u'REVISE', u'LONG', u'-', u'TERM', u'ENERGY', u'DEMAND', u'DOWNWARDS', u'The', u'Ministry', u'of', u'International', u'Trade', u'and', u'Industry', u'(', u'MITI', u')', u'will', u'revise', u'its', u'long', u'-', u'term', u'energy', u'supply', u'/', u'demand', u'outlook', u'by', u'August', u'to', u'meet', u'a', u'forecast', u'downtrend', u'in', u'Japanese', u'energy', u'demand', u',', u'ministry', u'officials', u'said', u'.', u'MITI', u'is', u'expected', u'to', u'lower', u'the', u'projection', u'for', u'primary', u'energy', u'supplies', u'in', u'the', u'year', u'2000', u'to', u'550', u'mln', u'kilolitres', u'(', u'kl', u')', u'from', u'600', u'mln', u',', u'they', u'said', u'.', u'The', u'decision', u'follows', u'the', u'emergence', u'of', u'structural', u'changes', u'in', u'Japanese', u'industry', u'following', u'the', u'rise', u'in', u'the', u'value', u'of', u'the', u'yen', u'and', u'a', u'decline', u'in', u'domestic', u'electric', u'power', u'demand', u'.', u'MITI', u'is', u'planning', u'to', u'work', u'out', u'a', u'revised', u'energy', u'supply', u'/', u'demand', u'outlook', u'through', u'deliberations', u'of', u'committee', u'meetings', u'of', u'the', u'Agency', u'of', u'Natural', u'Resources', u'and', u'Energy', u',', u'the', u'officials', u'said', u'.', u'They', u'said', u'MITI', u'will', u'also', u'review', u'the', u'breakdown', u'of', u'energy', u'supply', u'sources', u',', u'including', u'oil', u',', u'nuclear', u',', u'coal', u'and', u'natural', u'gas', u'.', u'Nuclear', u'energy', u'provided', u'the', u'bulk', u'of', u'Japan', u\"'\", u's', u'electric', u'power', u'in', u'the', u'fiscal', u'year', u'ended', u'March', u'31', u',', u'supplying', u'an', u'estimated', u'27', u'pct', u'on', u'a', u'kilowatt', u'/', u'hour', u'basis', u',', u'followed', u'by', u'oil', u'(', u'23', u'pct', u')', u'and', u'liquefied', u'natural', u'gas', u'(', u'21', u'pct', u'),', u'they', u'noted', u'.'] 207\n"
       ]
      }
     ],
     "prompt_number": 18
    },
    {
     "cell_type": "code",
     "collapsed": false,
     "input": [
      "#Nachher 114 und klein Geschrieben\n",
      "articles = [[token.lower() for token in reuters.words(fileids=fid)\n",
      "          if token.lower() not in stopwords and token.isalpha() and len(token.lower()) > 1]\n",
      "          for fid in reuters.fileids()]\n",
      "print articles[2]\n",
      "print len(articles[2])"
     ],
     "language": "python",
     "metadata": {},
     "outputs": [
      {
       "output_type": "stream",
       "stream": "stdout",
       "text": [
        "[u'japan', u'revise', u'long', u'term', u'energy', u'demand', u'downwards', u'ministry', u'international', u'trade', u'industry', u'miti', u'revise', u'long', u'term', u'energy', u'supply', u'demand', u'outlook', u'august', u'meet', u'forecast', u'downtrend', u'japanese', u'energy', u'demand', u'ministry', u'officials', u'said', u'miti', u'expected', u'lower', u'projection', u'primary', u'energy', u'supplies', u'year', u'mln', u'kilolitres', u'kl', u'mln', u'said', u'decision', u'follows', u'emergence', u'structural', u'changes', u'japanese', u'industry', u'following', u'rise', u'value', u'yen', u'decline', u'domestic', u'electric', u'power', u'demand', u'miti', u'planning', u'work', u'revised', u'energy', u'supply', u'demand', u'outlook', u'deliberations', u'committee', u'meetings', u'agency', u'natural', u'resources', u'energy', u'officials', u'said', u'said', u'miti', u'also', u'review', u'breakdown', u'energy', u'supply', u'sources', u'including', u'oil', u'nuclear', u'coal', u'natural', u'gas', u'nuclear', u'energy', u'provided', u'bulk', u'japan', u'electric', u'power', u'fiscal', u'year', u'ended', u'march', u'supplying', u'estimated', u'pct', u'kilowatt', u'hour', u'basis', u'followed', u'oil', u'pct', u'liquefied', u'natural', u'gas', u'pct', u'noted']\n",
        "114\n"
       ]
      }
     ],
     "prompt_number": 19
    },
    {
     "cell_type": "code",
     "collapsed": false,
     "input": [
      "fdistarticles = nltk.FreqDist([token for article in articles for token in article])\n",
      "fdistarticles.plot(20)"
     ],
     "language": "python",
     "metadata": {},
     "outputs": [
      {
       "metadata": {},
       "output_type": "display_data",
       "png": "[encoded data removed]",
       "text": [
        "<matplotlib.figure.Figure at 0x7f35cb17e410>"
       ]
      }
     ],
     "prompt_number": 20
    },
    {
     "cell_type": "markdown",
     "metadata": {},
     "source": [
      "Neben recht allgemeinen Begriffen wie said und it, kommen auch themenspezifische Schlagworte wie billion, company und bank besonders h\u00e4ufig in den Texten vor. Jedoch finden sich auch Begriffe in den Texten wieder, die lediglich einmal vorkommen. Diese gilt es f\u00fcr die weiteren Analyseschritte auszuschlie\u00dfen.\n",
      "Da es sich hierbei um einen \u00e4u\u00dferst langwierigen Prozess handelt, wurde zus\u00e4tzlich eine M\u00f6glichkeit zur Speicherung der Objekte angeh\u00e4ngt. So muss die Bereinigung bei sp\u00e4teren Korrekturen nicht noch einmal durchlaufen."
     ]
    },
    {
     "cell_type": "code",
     "collapsed": false,
     "input": [
      "#Zelle muss nich 1x durchlaufen, danach auskommentieren und n\u00e4chste Zelle nutzen\n",
      "\n",
      "\n",
      "all_tokens = sum(articles, [])\n",
      "only_once = set(word for word in set(all_tokens) if all_tokens.count(word) == 1)\n",
      "articles = [[token for token in text if token not in only_once] \n",
      "          for text in articles]\n",
      "\n",
      "# Articles bereinigt speichern um nicht jedes Mal 60 min warten zu m\u00fcssen\n",
      "# Code: http://www.saltycrane.com/blog/2008/01/saving-python-dict-to-file-using-pickle/\n",
      "\n",
      "output = open('articles_reuters.pkl', 'wb')\n",
      "pickle.dump(articles, output)\n",
      "output.close()\n",
      "\n",
      "output = open('all_tokens.pkl', 'wb')\n",
      "pickle.dump(all_tokens, output)\n",
      "output.close()\n"
     ],
     "language": "python",
     "metadata": {},
     "outputs": [],
     "prompt_number": 21
    },
    {
     "cell_type": "code",
     "collapsed": false,
     "input": [
      "# read  back from the file\n",
      "pkl_file = open('articles_reuters.pkl', 'rb')\n",
      "articles = pickle.load(pkl_file)\n",
      "pkl_file.close()\n",
      "\n",
      "# read back from the file\n",
      "pkl_file = open('all_tokens.pkl', 'rb')\n",
      "all_tokens = pickle.load(pkl_file)\n",
      "pkl_file.close()"
     ],
     "language": "python",
     "metadata": {},
     "outputs": [],
     "prompt_number": 22
    },
    {
     "cell_type": "code",
     "collapsed": false,
     "input": [
      "print articles[2]\n",
      "print len(articles[2])"
     ],
     "language": "python",
     "metadata": {},
     "outputs": [
      {
       "output_type": "stream",
       "stream": "stdout",
       "text": [
        "[u'japan', u'revise', u'long', u'term', u'energy', u'demand', u'downwards', u'ministry', u'international', u'trade', u'industry', u'miti', u'revise', u'long', u'term', u'energy', u'supply', u'demand', u'outlook', u'august', u'meet', u'forecast', u'downtrend', u'japanese', u'energy', u'demand', u'ministry', u'officials', u'said', u'miti', u'expected', u'lower', u'projection', u'primary', u'energy', u'supplies', u'year', u'mln', u'kl', u'mln', u'said', u'decision', u'follows', u'emergence', u'structural', u'changes', u'japanese', u'industry', u'following', u'rise', u'value', u'yen', u'decline', u'domestic', u'electric', u'power', u'demand', u'miti', u'planning', u'work', u'revised', u'energy', u'supply', u'demand', u'outlook', u'deliberations', u'committee', u'meetings', u'agency', u'natural', u'resources', u'energy', u'officials', u'said', u'said', u'miti', u'also', u'review', u'breakdown', u'energy', u'supply', u'sources', u'including', u'oil', u'nuclear', u'coal', u'natural', u'gas', u'nuclear', u'energy', u'provided', u'bulk', u'japan', u'electric', u'power', u'fiscal', u'year', u'ended', u'march', u'supplying', u'estimated', u'pct', u'kilowatt', u'hour', u'basis', u'followed', u'oil', u'pct', u'liquefied', u'natural', u'gas', u'pct', u'noted']\n",
        "113\n"
       ]
      }
     ],
     "prompt_number": 23
    },
    {
     "cell_type": "markdown",
     "metadata": {},
     "source": [
      "###Wort-Dokument Matrix\n"
     ]
    },
    {
     "cell_type": "markdown",
     "metadata": {},
     "source": [
      "Der erste Schritt der eigentlichen Analyse ist die Erstellung einer Wort-Dokument Matrix.\n",
      "In dieser Matrix bildet jedes Wort eine Zeile und die Texte die Spalten. In den Zellen selbst befindet sich die H\u00e4ufigkeit, mit der das Wort im Text vorkommt. \n",
      "\n",
      "Hierf\u00fcr wird ein Diktion\u00e4r erstellt, in dem die Worte in IDs transformiert werden. Jedes Wort wird als ein Integer geschrieben und im n\u00e4chsten Schrittt aus dem tokenisierten Dokument Vektoren erstellt. Somit erh\u00e4lt der Corpus zum einen die ID f\u00fcr die einzelnen Worte und die H\u00e4ufigkeit in der sie im Text vorkommen.\n",
      "\n",
      "\n"
     ]
    },
    {
     "cell_type": "code",
     "collapsed": false,
     "input": [
      "dictionary = corpora.Dictionary(articles)\n",
      "corpus = [dictionary.doc2bow(token) for token in articles]\n",
      "print corpus[2]"
     ],
     "language": "python",
     "metadata": {},
     "outputs": [
      {
       "output_type": "stream",
       "stream": "stdout",
       "text": [
        "[(6, 1), (39, 1), (70, 2), (92, 1), (114, 2), (116, 1), (118, 2), (119, 2), (133, 2), (152, 1), (157, 4), (158, 2), (173, 2), (184, 3), (219, 4), (235, 1), (254, 2), (263, 1), (282, 2), (323, 1), (324, 1), (325, 1), (326, 1), (327, 1), (328, 1), (329, 1), (330, 1), (331, 1), (332, 1), (333, 5), (334, 1), (335, 1), (336, 1), (337, 1), (338, 1), (339, 8), (340, 1), (341, 1), (342, 1), (343, 1), (344, 1), (345, 1), (346, 2), (347, 1), (348, 1), (349, 1), (350, 1), (351, 1), (352, 1), (353, 1), (354, 1), (355, 2), (356, 3), (357, 1), (358, 2), (359, 2), (360, 2), (361, 1), (362, 2), (363, 1), (364, 1), (365, 1), (366, 1), (367, 1), (368, 2), (369, 1), (370, 1), (371, 1), (372, 1), (373, 3), (374, 1), (375, 1), (376, 1), (377, 1)]\n"
       ]
      }
     ],
     "prompt_number": 24
    },
    {
     "cell_type": "code",
     "collapsed": false,
     "input": [
      "#Beispiel pct -> kommt 3x im Text 2 vor.\n",
      "print dictionary[184]"
     ],
     "language": "python",
     "metadata": {},
     "outputs": [
      {
       "output_type": "stream",
       "stream": "stdout",
       "text": [
        "pct\n"
       ]
      }
     ],
     "prompt_number": 25
    },
    {
     "cell_type": "markdown",
     "metadata": {},
     "source": [
      "###Vektoren normalisieren / gewichten"
     ]
    },
    {
     "cell_type": "markdown",
     "metadata": {},
     "source": [
      "In n\u00e4chsten Schritt werden die einzelnen Tokens nach ihrer H\u00e4ufigkeit gewichtet. Hierbei werden W\u00f6rter, die seltener vorkommen st\u00e4rker gewichtet als diejenigen, die h\u00e4ufiger vorkommen. Bspw. sollte ein Wort, das lediglich in 5% der Texte vorkommt st\u00e4rker gewichtet werden als ein Wort, das in 90% der Texte zu finden ist.\n",
      "\n",
      "$$TFIDFi,j = ( Ni,j / N*,j ) * log( D / Di  ) $$ \n",
      "\n",
      "    * Ni,j = H\u00e4ufigkeit des Wortes i im Dokument j\n",
      "    * N*,j = Anzahl der Worte in Dokument j \n",
      "    * D = Anzahl der Dokumente\n",
      "    * Di = Anzahl der Dokumente in denen das Wort i vorkommt\n",
      "[Quelle](http://www.puffinwarellc.com/index.php/news-and-articles/articles/33.html?start=3)\n"
     ]
    },
    {
     "cell_type": "code",
     "collapsed": false,
     "input": [
      "tfidf = models.TfidfModel(corpus, normalize=True)\n",
      "corpus_tfidf = tfidf[corpus]"
     ],
     "language": "python",
     "metadata": {},
     "outputs": [],
     "prompt_number": 26
    },
    {
     "cell_type": "heading",
     "level": 3,
     "metadata": {},
     "source": [
      "Raum latenter Semantiken"
     ]
    },
    {
     "cell_type": "markdown",
     "metadata": {},
     "source": [
      "Nachdem die Wort-Dokument Matrix erstellt und die Gewichtung vorgenommen wurde, wird in diesem Schritt der eigentliche Raum latenter Semantiken erstellt. \n",
      "Ziel dieses Schrittes ist es, die vorliegende Matrix auf die bestm\u00f6gliche Weise so auf die latenten Konzepte zu reduzieren, sodass keine Informationen verloren gehen, die Datenmenge jedoch reduziert wird und die Matrix rekonstruiert werden kann.\n",
      "\n",
      "Die Anzahl der einzelnen Dimensionen kann h\u00e4ndisch festgelegt werden und spielt eine entscheidende Rolle. Werden zu wenige Dimensionen erstellt, bleiben einzelne latente Bedeutungen/Konzepte unbemerkt und es werden falsche Zuordnungen vorgenommen. Werden zu viele Dimensionen gew\u00e4hlt, k\u00f6nnten wiederum Dimensionen erstellt werden, die durchaus vernachl\u00e4ssigbar w\u00e4ren und den Erfolg der Datenreduktion mindern. In diesem Fall werden 100 Dimensionen genutzt."
     ]
    },
    {
     "cell_type": "code",
     "collapsed": false,
     "input": [
      "lsi = models.LsiModel(corpus_tfidf, id2word=dictionary, num_topics=100)"
     ],
     "language": "python",
     "metadata": {},
     "outputs": [],
     "prompt_number": 27
    },
    {
     "cell_type": "code",
     "collapsed": false,
     "input": [
      "lsi.show_topic(29, 5)   #Kaffe und Kakau Export Gesch\u00e4fte\n",
      " "
     ],
     "language": "python",
     "metadata": {},
     "outputs": [
      {
       "metadata": {},
       "output_type": "pyout",
       "prompt_number": 28,
       "text": [
        "[(0.24172058638961219, u'cocoa'),\n",
        " (-0.22351297255850486, u'coffee'),\n",
        " (-0.20407161278260472, u'dividend'),\n",
        " (0.19497766958722146, u'buffer'),\n",
        " (-0.18754568150422071, u'mln')]"
       ]
      }
     ],
     "prompt_number": 28
    },
    {
     "cell_type": "heading",
     "level": 3,
     "metadata": {},
     "source": [
      "Folding in / Semantische \u00c4hnlichkeit"
     ]
    },
    {
     "cell_type": "markdown",
     "metadata": {},
     "source": [
      "Nun k\u00f6nnen anhand der Informationen aus den vorherigen Schritten \u00c4hnlichkeiten zwischen neuen und bestehenden Texten untersucht werden. Hierf\u00fcr wird die Kosinus\u00e4hnlichkeit verwendet.\n",
      "\n",
      "$$\\cos{\\theta} = \\frac{A \\cdot B}{\\|A\\| \\|B\\|} = \\frac{\\sum\\limits_{i=1}^n {A_i \\times B_i} }{\\sqrt{\\sum\\limits_{i=1}^n {(A_i)^2} } \\times \\sqrt{\\sum\\limits_{i=1}^n {(B_i)^2} }}$$\n",
      "\n",
      "Es k\u00f6nnen Werte zwischen -1 und 1 erreicht werden, wobei 1 f\u00fcr absolute Gleichheit steht und 0 f\u00fcr keinerlei \u00c4hnlichkeit und bei -1 sind sie genau entgegengesetzt.\n",
      "\n",
      "Es werden zun\u00e4chst kurze Texte bzw. Schlagzeilen erstellt und in den Vektorraum projiziert und gewichtet, wo sie mit den bestehenden Texten verglichen werden k\u00f6nnen. Es wird ein Index f\u00fcr den Korpus erstellt und die \u00c4hnlichkeiten ausgegeben bzw. die drei Texte, die nach diesem Verfahren die h\u00f6chste \u00c4hnlichkeit aufweisen.\n",
      "\n",
      "Das erste Beispiel beschreibt die Gewinnung von Eisenerz in Brasilien und weist eine hohe \u00c4hnlichkeit auf mit Artikeln, die insbesondere von Eisenerz handeln. Wobei insbesondere im zweiten Text die St\u00e4rken der Analyse deutlich werden. Obwohl weder Brasilien und Erz als starke Schlagworte vorkommen, wird ein Text zu streikenden Minenarbeitern mit hoher \u00c4hnlichkeit gefunden.\n",
      "\n",
      "Ebenso k\u00f6nnen im zweiten Beispiel hohe \u00c4hnlichkeiten mit einigen Texten verzeichnet werden, die in diesem Fall mit den politischen Schlagworten im neuen Text zusammenh\u00e4ngen, ohne dass diese zwangsl\u00e4ufig in den bestehenden Texten selbst vorkommen."
     ]
    },
    {
     "cell_type": "code",
     "collapsed": false,
     "input": [
      "doc = \"Trains, tides and tons Vale leads Brazil iron ore expansion\"\n",
      "vec_bow = dictionary.doc2bow(doc.lower().split())\n",
      "\n",
      "#Mit Gewichtung\n",
      "vec_tfidf = tfidf[vec_bow]\n",
      "vec_lsi_tfidf = lsi[vec_tfidf]\n",
      "\n",
      "index = similarities.MatrixSimilarity(lsi[corpus_tfidf])\n",
      "sims = index[vec_lsi_tfidf]\n",
      "for article in sorted(zip(sims, articles), reverse=True)[:3]:\n",
      "    print article"
     ],
     "language": "python",
     "metadata": {},
     "outputs": [
      {
       "output_type": "stream",
       "stream": "stderr",
       "text": [
        "WARNING:gensim.similarities.docsim:scanning corpus to determine the number of features (consider setting `num_features` explicitly)\n"
       ]
      },
      {
       "output_type": "stream",
       "stream": "stdout",
       "text": [
        "(0.71797997, [u'upland', u'minerals', u'acquires', u'brazil', u'mining', u'firm', u'upland', u'minerals', u'chemicals', u'corp', u'said', u'agreed', u'acquire', u'consolidated', u'brazilian', u'mines', u'international', u'inc', u'public', u'company', u'one', u'mln', u'acres', u'diamond', u'gold', u'properties', u'brazil', u'terms', u'disclosed', u'consolidated', u'owns', u'mining', u'concessions', u'three', u'regions', u'eastern', u'northern', u'brazil', u'gammara', u'santo', u'antonio', u'diamazon', u'company', u'said', u'upland', u'also', u'said', u'previously', u'announced', u'acquisition', u'aslaminas', u'aslambeck', u'mining', u'corp', u'minas', u'gerais', u'brazil', u'mining', u'concern', u'produce', u'revenues', u'mln', u'dlrs', u'year', u'next', u'years'])\n",
        "(0.71668255, [u'cominco', u'strike', u'talks', u'scheduled', u'cominco', u'ltd', u'said', u'talks', u'scheduled', u'striking', u'workers', u'trail', u'smelter', u'kimberley', u'british', u'columbia', u'lead', u'zinc', u'mine', u'company', u'spokesman', u'said', u'company', u'union', u'met', u'informally', u'tuesday', u'talks', u'constitute', u'formal', u'bargaining', u'session', u'last', u'formal', u'talks', u'june', u'workers', u'went', u'strike', u'may', u'production', u'shut', u'since', u'trail', u'smelter', u'produced', u'long', u'tons', u'zinc', u'long', u'tons', u'lead', u'last', u'year', u'sullivan', u'mine', u'kimberley', u'produced', u'mln', u'long', u'tons', u'ore', u'processing', u'trail', u'smelter'])\n",
        "(0.70606208, [u'upland', u'minerals', u'acquires', u'brazil', u'mining', u'firm', u'upland', u'minerals', u'chemicals', u'corp', u'said', u'agreed', u'acquire', u'consolidated', u'brazilian', u'mines', u'international', u'inc', u'public', u'company', u'one', u'mln', u'acres', u'diamond', u'gold', u'properties', u'brazil', u'terms', u'disclosed', u'consolidated', u'owns', u'mining', u'concessions', u'three', u'regions', u'eastern', u'northern', u'brazil', u'gammara', u'santo', u'antonio', u'diamazon', u'company', u'said', u'upland', u'also', u'said', u'previously', u'announced', u'acquisition', u'aslaminas', u'aslambeck', u'mining', u'corp', u'minas', u'gerais', u'brazil', u'mining', u'concern', u'produce', u'revenues', u'mln', u'dlrs', u'year', u'next', u'years', u'new', u'york', u'based', u'upland', u'traded', u'counter'])\n"
       ]
      }
     ],
     "prompt_number": 29
    },
    {
     "cell_type": "code",
     "collapsed": false,
     "input": [
      "doc = \"Republican candidate Carson Muslims unfit to be U.S. president\"\n",
      "vec_bow = dictionary.doc2bow(doc.lower().split())\n",
      "\n",
      "#Mit Gewichtung\n",
      "vec_tfidf = tfidf[vec_bow]\n",
      "vec_lsi_tfidf = lsi[vec_tfidf]\n",
      "\n",
      "index = similarities.MatrixSimilarity(lsi[corpus_tfidf])\n",
      "sims = index[vec_lsi_tfidf]\n",
      "for article in sorted(zip(sims, articles), reverse=True)[:3]:\n",
      "    print article"
     ],
     "language": "python",
     "metadata": {},
     "outputs": [
      {
       "output_type": "stream",
       "stream": "stderr",
       "text": [
        "WARNING:gensim.similarities.docsim:scanning corpus to determine the number of features (consider setting `num_features` explicitly)\n"
       ]
      },
      {
       "output_type": "stream",
       "stream": "stdout",
       "text": [
        "(0.77543652, [u'house', u'passes', u'gulf', u'bill', u'despite', u'opposition', u'house', u'representatives', u'approved', u'bill', u'requires', u'reagan', u'administration', u'provide', u'congress', u'report', u'gulf', u'policy', u'place', u'restrictions', u'actions', u'bill', u'passed', u'winning', u'necessary', u'two', u'thirds', u'voting', u'despite', u'last', u'minute', u'revolt', u'alliance', u'liberal', u'democrats', u'conservative', u'republicans', u'sought', u'defeat', u'signal', u'growing', u'number', u'legislators', u'oppose', u'president', u'reagan', u'policies', u'region', u'legislation', u'passed', u'wake', u'may', u'iraqi', u'missile', u'attack', u'frigate', u'stark', u'gulf', u'killed', u'americans', u'reagan', u'decision', u'protect', u'kuwaiti', u'oil', u'tankers', u'putting', u'flags', u'effectively', u'making', u'american', u'ships', u'legislation', u'supported', u'congress', u'democratic', u'republican', u'leadership', u'well', u'administration', u'required', u'defense', u'secretary', u'caspar', u'weinberger', u'provide', u'report', u'congress', u'within', u'seven', u'days', u'enactment', u'plans', u'protect', u'warships', u'flag', u'ships', u'persian', u'gulf', u'however', u'place', u'restrictions', u'administration', u'proceeds', u'reflag', u'kuwaiti', u'ships', u'thus', u'immediate', u'effect', u'policy', u'senate', u'expected', u'approve', u'legislation', u'week', u'bill', u'would', u'sent', u'reagan', u'signature', u'supporters', u'bill', u'said', u'passage', u'bill', u'first', u'step', u'toward', u'greater', u'congressional', u'involvement', u'formulating', u'policy', u'democratic', u'critics', u'said', u'bill', u'ask', u'administration', u'address', u'tough', u'policy', u'questions', u'report'])\n",
        "(0.75220114, [u'last', u'minute', u'opposition', u'gulf', u'bill', u'arises', u'house', u'speaker', u'jim', u'wright', u'predicted', u'passage', u'legislation', u'requiring', u'reagan', u'administration', u'provide', u'congress', u'report', u'mideast', u'gulf', u'policy', u'last', u'minute', u'revolt', u'alliance', u'liberals', u'conservatives', u'left', u'bill', u'fate', u'doubt', u'legislation', u'written', u'wake', u'may', u'iraqi', u'missile', u'attack', u'frigate', u'stark', u'gulf', u'killed', u'americans', u'president', u'reagan', u'decision', u'protect', u'kuwaiti', u'oil', u'tankers', u'putting', u'flags', u'effectively', u'making', u'american', u'ships', u'since', u'administration', u'made', u'known', u'reflagging', u'plans', u'congressional', u'leaders', u'complained', u'consulted', u'charged', u'policy', u'could', u'lead', u'united', u'states', u'year', u'old', u'war', u'iran', u'iraq', u'house', u'vote', u'today', u'bill', u'supported', u'democratic', u'republican', u'congressional', u'leadership', u'administration', u'demanded', u'report', u'within', u'seven', u'days', u'plans', u'meet', u'security', u'needs', u'forces', u'gulf', u'resolution', u'expected', u'pass', u'without', u'controversy', u'today', u'house', u'foreign', u'affairs', u'committee', u'full', u'house', u'take', u'bill', u'surprise', u'move', u'liberal', u'democrats', u'conservative', u'republicans', u'committee', u'joined', u'unusual', u'alliance', u'oppose', u'resolution', u'liberal', u'democrats', u'said', u'lack', u'restrictions', u'bill', u'implied', u'consent', u'reagan', u'policies'])\n",
        "(0.75168359, [u'house', u'passes', u'mideast', u'gulf', u'bill', u'house', u'today', u'approved', u'bill', u'requiring', u'reagan', u'administration', u'report', u'congress', u'mideast', u'gulf', u'policy', u'restricting', u'actions', u'vote', u'favor', u'despite', u'last', u'minute', u'revolt', u'alliance', u'liberal', u'democrats', u'conservative', u'republicans', u'sought', u'defeat', u'signal', u'growing', u'number', u'legislators', u'oppose', u'president', u'reagan', u'policies', u'region', u'senate', u'leading', u'republican', u'senator', u'former', u'senate', u'appropriations', u'committee', u'chairman', u'mark', u'hatfield', u'oregon', u'said', u'would', u'try', u'prevent', u'consideration', u'bill', u'said', u'put', u'called', u'hold', u'bill', u'finds', u'whether', u'war', u'powers', u'act', u'applies', u'protecting', u'kuwaiti', u'tankers', u'congressional', u'leaders', u'complain', u'consulted', u'plans', u'put', u'flag', u'kuwaiti', u'ships', u'charged', u'policy', u'could', u'lead', u'iran', u'iraq', u'war', u'conservative', u'republicans', u'said', u'increasing', u'military', u'obligation', u'gulf', u'would', u'place', u'impossible', u'burdens', u'american', u'equipment', u'warned', u'could', u'lead', u'war', u'real', u'pit', u'best', u'powder', u'keg', u'blow', u'sky', u'high', u'worst', u'said', u'wisconsin', u'rep', u'roth'])\n"
       ]
      }
     ],
     "prompt_number": 30
    }
   ],
   "metadata": {}
  }
 ]
}