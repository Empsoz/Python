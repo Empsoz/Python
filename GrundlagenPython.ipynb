{
 "metadata": {
  "celltoolbar": "Slideshow",
  "name": "",
  "signature": "sha256:7a9e1c9a38c49f8d7d26ab49eb08b66373e24ec41f25f3191ef5f06aec9bc4c2"
 },
 "nbformat": 3,
 "nbformat_minor": 0,
 "worksheets": [
  {
   "cells": [
    {
     "cell_type": "markdown",
     "metadata": {},
     "source": [
      "#Grundlagen der quantitativen Textanalyse\n",
      "\n",
      "Gregor Czerner\n",
      "\n",
      "E-Mail: g.cz@gmx.de\n"
     ]
    },
    {
     "cell_type": "markdown",
     "metadata": {},
     "source": [
      "####Fiction:   Metamorphosis,   by Franz Kafka\n",
      "\n",
      "Eine Erz\u00e4hlung in anti-m\u00e4rchenhafter Form von Franz Kafka \u00fcber Gregor Samsa.\n",
      "\n",
      "####Religion:  Buddhist Psalms, by Shinran Shonin\n",
      "\n",
      "Ein Buch \u00fcber buddhistische Psalme.\n",
      "\n",
      "####Science:   The Microscope,  by Andrew Ross \n",
      "\n",
      "Die Geschichte des Mikroskops."
     ]
    },
    {
     "cell_type": "code",
     "collapsed": false,
     "input": [
      "import urllib2\n",
      "\n",
      "#URL\n",
      "kafkaurl = \"https://www.gutenberg.org/files/5200/5200.txt\"\n",
      "shoninurl = \"https://www.gutenberg.org/files/7015/7015.txt\"\n",
      "rossurl = \"https://www.gutenberg.org/files/41958/41958.txt\"\n",
      "\n",
      "#Einlesen der Texte\n",
      "kafka_orig = urllib2.urlopen(kafkaurl).read() \n",
      "shonin_orig = urllib2.urlopen(shoninurl).read()\n",
      "ross_orig = urllib2.urlopen(rossurl).read()"
     ],
     "language": "python",
     "metadata": {},
     "outputs": [],
     "prompt_number": 2
    },
    {
     "cell_type": "heading",
     "level": 4,
     "metadata": {},
     "source": [
      "Tokenisieren und bereinigen der Strings"
     ]
    },
    {
     "cell_type": "code",
     "collapsed": false,
     "input": [
      "import nltk\n",
      "import re\n",
      "\n",
      "kafka = kafka_orig\n",
      "shonin = shonin_orig\n",
      "ross = ross_orig\n"
     ],
     "language": "python",
     "metadata": {},
     "outputs": []
    },
    {
     "cell_type": "markdown",
     "metadata": {},
     "source": [
      "Alle drei Texte m\u00fcssen um einige Zeichen bereinigt werden. Neben Kapitelnummerierungen und Platzhaltern f\u00fcr\n",
      "Grafiken, haben alle drei Texte einen Gutenbergprojekt Kopf- und Fu\u00dfanhang. Dieser geh\u00f6rt nicht zum eigentlichen\n",
      "Werk und sollte f\u00fcr die Analysen entfernt werden.\n",
      "\n",
      "\n",
      "\n",
      "Als Header wird in diesem Fall alles vestanden, das nicht -in- den eigentlichen Text geh\u00f6rt,\n",
      "also auch Titel, Autor und Co. \n"
     ]
    },
    {
     "cell_type": "code",
     "collapsed": false,
     "input": [
      "import nltk\n",
      "import re\n",
      "\n",
      "kafka = kafka_orig\n",
      "shonin = shonin_orig\n",
      "ross = ross_orig\n",
      "\n",
      "\n",
      "#Definition einer Funktion zum Entfernen der Fu\u00dfzeilen\n",
      "def remove_footer(text):\n",
      "    return text.join(re.split(r'[\\r\\n]*End of the Project Gutenberg EBook of',text)[:-1])\n",
      "    \n",
      "    \n",
      "#Haeder und Footer entfernen    \n",
      "##Kafka\n",
      "#Ohne erste Kapitelnummerierung und Header als string behalten:\n",
      "kafka = kafka.join(kafka.split('\\r\\n\\r\\n\\r\\n\\r\\nI\\r\\n\\r\\n\\r\\n',1)[-1:])\n",
      "#Foodnote abschneiden und Rest als String behalten\n",
      "kafka = remove_footer(kafka)\n",
      "\n",
      "##Ross\n",
      "ross = ross.join(ross.split('THE MICROSCOPE.\\r\\n\\r\\n\\r\\n',1)[-1:])\n",
      "ross = remove_footer(ross)\n",
      "\n",
      "#Tabellen u. Co. sind mit [Illustration: Fig. XX.] gekennzeichnet. Diese m\u00fcssen entfernt werden.\n",
      "ross = re.sub(r'(.{1}Illustration: Fig. .*)', ' ',ross)\n",
      "ross = re.sub(r'(Fig. [0-9]+)', ' ',ross)\n",
      "\n",
      "##Shonin\n",
      "shonin = shonin.join(shonin.split('BY L. ADAMS BECK\\r\\n\\r\\n',1)[-1:])\n",
      "shonin = remove_footer(shonin)\n",
      "##Alternativ h\u00e4tte man mit auch die Position mit kafka.find() und mittels kafka = kafka[x:x] \n",
      "#die Auswahl einschr\u00e4nken k\u00f6nnen und so Header/Footer entfernen k\u00f6nnen. \n",
      "#Die hier gew\u00e4hlte Variante erleichtert die Anwendung auf 3 Texte\n",
      "\n"
     ],
     "language": "python",
     "metadata": {},
     "outputs": [],
     "prompt_number": 3
    },
    {
     "cell_type": "markdown",
     "metadata": {},
     "source": [
      "Stoppzeichen, Sonderheichen, Kapitelnummerierung entfernen u. sonstige Anpassungen\n"
     ]
    },
    {
     "cell_type": "code",
     "collapsed": false,
     "input": [
      "\n",
      "#Nummerierung der Psalme entfernen:\n",
      "shonin = re.sub(r'[0-9]+\\.', ' ',shonin)\n",
      "\n",
      "#Alles kleinschreiben damit die Position im Satz (Satzanfang, Mitte) etc. keinen Einfluss auf die Tokenisierung haben\n",
      "kafka = kafka.lower()\n",
      "shonin = shonin.lower()\n",
      "ross = ross.lower()\n",
      "\n",
      "#Tokenisieren der drei Texte:\n",
      "kafkatokens = nltk.word_tokenize(kafka) \n",
      "shonintokens =  nltk.word_tokenize(shonin)\n",
      "rosstokens = nltk.word_tokenize(ross)\n",
      "\n",
      "##Kafka\n",
      "#Kapitelnummerierung entfernen:\n",
      "chapter = ['ii', 'iii']\n",
      "kafkatokens = [token for token in kafkatokens if token not in chapter]\n",
      "\n",
      "\n",
      "#Dar\u00fcber hinaus k\u00f6nnen sogenannten Stopw\u00f6rter entfernt werden, die h\u00e4ufig vorkommen wie\n",
      "#the, to und also, die jedoch einen niedrigen lexikarischen Kontent besitzen und entfernt werden k\u00f6nnen\n",
      "#(vgl. http://www.nltk.org/book/ch02.html)\n",
      "from nltk.corpus import stopwords #importieren der stopwords vom nltk.corpus\n",
      "stopwords = stopwords.words(\"english\") \n",
      "stopwords.append(\"n't\") #wurde beigef\u00fcgt, das \"not\" und \"'t\" in der Liste vorhanden sind, \"n't\" jedoch nicht..\n",
      "\n",
      "#Was in stopwords gelistet wird, wird ausgeschlossen:\n",
      "kafkatokens = [token for token in kafkatokens if token not in stopwords] \n",
      "rosstokens = [token for token in rosstokens if token not in stopwords]\n",
      "shonintokens = [token for token in shonintokens if token not in stopwords]\n",
      "\n",
      "#print kafkatokens[:100] #Es bleiben noch enige Satzzeichen, 's etc.\n",
      "\n",
      "#Da auch Punkte, Fragezeichen und weitere Satzzeichen als Tokens definiert wurden,\n",
      "#werden diese ebenfalls herausgenommen: (vgl. http://www.nltk.org/book/ch01.html Table4.2)\n",
      "#Leider sorgt 'isalnum()' daf\u00fcr, das Worte wie \"armour-like\" etc. entfernt werden.\n",
      "##kafkatokens = [token for token in kafkatokens if token.isalnum()]\n",
      "\n",
      "#Die Sonderzeichen werden eigenh\u00e4ndig definiert:\n",
      "punctutation = ['.',',','?','!',' ,',' ,','-','--','`','``',':',\"'\",\"''\",\"'s\",\"'ve\",']',';','[']\n",
      "rosstokens = [token for token in rosstokens if token not in punctutation]\n",
      "kafkatokens = [token for token in kafkatokens if token not in punctutation]\n",
      "shonintokens = [token for token in shonintokens if token not in punctutation]\n",
      "\n",
      "#Zus\u00e4tzlich werden einzelne Zeichen entfern. Einige Texte sind durchnummeriert (A,B) \n",
      "rosstokens = [token for token in rosstokens if len(token) > 1]\n",
      "kafkatokens = [token for token in kafkatokens if len(token) > 1]\n",
      "shonintokens = [token for token in shonintokens if len(token) > 1]"
     ],
     "language": "python",
     "metadata": {},
     "outputs": [],
     "prompt_number": 4
    },
    {
     "cell_type": "heading",
     "level": 4,
     "metadata": {},
     "source": [
      "Berechnen der lexikalische Diversit\u00e4t aller drei Texte."
     ]
    },
    {
     "cell_type": "code",
     "collapsed": false,
     "input": [
      "tokens =  [rosstokens, kafkatokens, shonintokens]\n",
      "for token in tokens:\n",
      "    print  len(set(token)) /float(len(token))\n",
      "    \n",
      "#Das Ergebnis ist nich weiter verwunderlich. Die lexikalische Dichte ist in der Verwandlung geringer als \n",
      "#in den Sachb\u00fcchern. Wobei die von Ross, die die Funktionsweise von Mikroskopen beschreibt, am h\u00f6chsten ist.\n",
      "#Die sollten jedoch noch in ihrer Originalsprache verglichen werden, da die lexikalische Dichte unter der \u00dcbersetzung\n",
      "#leiden kann.\n",
      "#Dar\u00fcber hinaus k\u00f6nnte versucht werden anhand des Vorkommens der W\u00f6rter in der jeweiligen Sprache zu gewichten, da eine\n",
      "#Gleichstellung den Index zu grob misst. Eine Unterteilung in Teils\u00e4tze statt in einzelne Tokens w\u00e4re auch denkbar.\n"
     ],
     "language": "python",
     "metadata": {},
     "outputs": [
      {
       "output_type": "stream",
       "stream": "stdout",
       "text": [
        "0.27592241505\n",
        "0.244517217426\n",
        "0.253324725629\n"
       ]
      }
     ],
     "prompt_number": 5
    },
    {
     "cell_type": "heading",
     "level": 4,
     "metadata": {},
     "source": [
      "Transformieren der Texte in Objekte der Nltk-Klasse Text."
     ]
    },
    {
     "cell_type": "code",
     "collapsed": false,
     "input": [
      "rosstext = nltk.Text(rosstokens)\n",
      "kafkatext = nltk.Text(kafkatokens)\n",
      "shonintext = nltk.Text(shonintokens)"
     ],
     "language": "python",
     "metadata": {},
     "outputs": [],
     "prompt_number": 6
    },
    {
     "cell_type": "markdown",
     "metadata": {},
     "source": [
      " Betrachten der grundlegenden Eigenschaften des Textes:\n",
      "\n",
      "    - Kollokationen.\n",
      "    - Konkordanzen \n",
      "    - Gemeinsame Kontexte "
     ]
    },
    {
     "cell_type": "code",
     "collapsed": false,
     "input": [
      "texts = [rosstext,kafkatext,shonintext]\n",
      "for text in texts:\n",
      "    print 'Kollokation' ,'\\n', text.collocations(), '\\n','\\n','Konkodanz','\\n', text.concordance('light'), '\\n','\\n', \\\n",
      "    'Gemeinsame Kontexte', '\\n' ,text.similar('light'), '\\n','\\n', text.common_contexts(['seen', 'great']) ,'\\n','\\n', '\\n','\\n'\n"
     ],
     "language": "python",
     "metadata": {},
     "outputs": [
      {
       "output_type": "stream",
       "stream": "stdout",
       "text": [
        "Kollokation \n",
        "focal length; magnifying power; compound microscope; simple\n",
        "microscope; distinct vision; dr. wollaston; society arts; ten inches;\n",
        "naked eye; two lenses; spherical aberration; milled head; mr. varley;\n",
        "longer aplanatic; parallel lines; shorter focus; single lens; volume\n",
        "transactions; huyghenean eye-piece; quantity light"
       ]
      },
      {
       "output_type": "stream",
       "stream": "stdout",
       "text": [
        "\n",
        "None \n",
        "\n",
        "Konkodanz \n",
        "Displaying 25 of 70 matches:\n",
        "iliar information contained articles light lens achromatic aberration sub-divis\n",
        "pin gummed slip glass present strong light look finest needle-hole blackened ca\n",
        "must however confounded angle pencil light object seen explained drawn two arro\n",
        "ntre drawn lines exhibiting quantity light point send eye respective distances \n",
        "r pupil angle shows size cone pencil light enters eye point like manner angle p\n",
        "ble evident seen four times quantity light could received equally illuminated p\n",
        "arent area increased four times well light difference respect discovered could \n",
        "ld find means send eye larger pencil light instance shown lines without increas\n",
        "een apparent brightness angle pencil light points seen explanations shall conti\n",
        "t fact placed nearly principal focus light diverges point may refraction lens p\n",
        "ones drawn extremities portions rays light diverging points falling upon lens r\n",
        "t consideration number rays quantity light every point object rendered visible \n",
        "mits point every visible object cone light diameter pupil base persons familiar\n",
        "ously contracts reduce cone admitted light within bearable limits effect still \n",
        " obscure point seen means small cone light little consideration suffice explain\n",
        "-hole lens change angular value cone light presented eye lens changes angle ben\n",
        "ect greater distance reduce quantity light point sends eye effectually viewing \n",
        "eater distance see magnified picture light emanating small object becomes matte\n",
        "lty obtain point sufficient quantity light bear diffusion great magnifying powe\n",
        "es bring eye largest possible pencil light point object referring observed eye \n",
        "ntervention lens small portion cones light drawn extremities would enter pupil \n",
        "pil whereas supposed bent lens whole light enters eye part cones smaller angle \n",
        "plain difference large small pencils light small arrow large pencils dotted con\n",
        "e arrow small pencils assuming whole light could suffered enter eye lens sake p\n",
        "nsiderations must learn large pencil light passing single lens would distorted \n",
        "None \n",
        "\n",
        "Gemeinsame Kontexte \n",
        "instance near object accurate proceeds"
       ]
      },
      {
       "output_type": "stream",
       "stream": "stdout",
       "text": [
        "\n",
        "None \n",
        "\n",
        "No common contexts were found\n",
        "None \n",
        "\n",
        "\n",
        "\n",
        "\n",
        "Kollokation \n",
        "chief clerk; mr. samsa; three gentlemen; chest drawers; mrs. samsa;\n",
        "living room; little legs; straight away; entrance hall; gregor father;\n",
        "even though; one side; gregor mother; lower part; two women; open\n",
        "door; earn money; key lock; could see; get rid"
       ]
      },
      {
       "output_type": "stream",
       "stream": "stdout",
       "text": [
        "\n",
        "None \n",
        "\n",
        "Konkodanz \n",
        "Displaying 7 of 7 matches:\n",
        "ding front room carefully shut woken light electric street lamps shone palely o\n",
        "rneath spent whole night time passed light sleep although frequently woke alarm\n",
        "ying floor could breathe freely body light swing relaxed almost happy might hap\n",
        " seen living room could watch family light dinner table listen conversation eve\n",
        "n gentlemen rented room came evening light put sat table formerly gregor taken \n",
        "ree morning watched slowly began get light everywhere outside window without wi\n",
        " hands pockets well-worn coats quite light room door bedroom opened mr. samsa a\n",
        "None \n",
        "\n",
        "Gemeinsame Kontexte \n"
       ]
      },
      {
       "output_type": "stream",
       "stream": "stdout",
       "text": [
        "\n",
        "None \n",
        "\n",
        "No common contexts were found\n",
        "None \n",
        "\n",
        "\n",
        "\n",
        "\n",
        "Kollokation \n",
        "divine promise; holy name; ten regions; birth death; attain unto;\n",
        "honen shonin; blessed one; seek refuge; great teacher; land purity;\n",
        "reciteth holy; true faith; righteous deeds; sands ganges; enlightened\n",
        "one; myriads kalpas; buddha infinite; bring homage; attained unto;\n",
        "attaineth unto"
       ]
      },
      {
       "output_type": "stream",
       "stream": "stdout",
       "text": [
        "\n",
        "None \n",
        "\n",
        "Konkodanz \n",
        "Displaying 25 of 78 matches:\n",
        " amitabha amida buddha one boundless light abideth life universe without colour\n",
        "rth saving power eternal one abideth light darkness buddha boundless light plac\n",
        "deth light darkness buddha boundless light place man shinran received enlighten\n",
        "ht neglected people darkness brought light father lights people flocked warmth \n",
        "nin great teacher doctrine land pure light taught plainly inmost heart faith ra\n",
        "ong long ages ten kalpas rolled away light dharma-kaya world eyes blind seek re\n",
        " blind seek refuge true illumination light wisdom infinite worlds nothing upon \n",
        " wisdom infinite worlds nothing upon light shines take refuge light universal l\n",
        "othing upon light shines take refuge light universal light deliverance boundles\n",
        "t shines take refuge light universal light deliverance boundless within freed l\n",
        " shineth pierceth things nothing hid light thereof take refuge ultimate strengt\n",
        "ngth pure radiance things perceiveth light set free fetters karma seek refuge w\n",
        "orious radiance called buddha divine light darkness three worlds enlightened ex\n",
        "s three worlds enlightened excellent light wisdom therefore called buddha clear\n",
        "e called buddha clear shining within light washed soil karma shall attain unto \n",
        "ughout worlds men rejoice gladdening light darkness ignorance perisheth light t\n",
        "g light darkness ignorance perisheth light therefore hailed buddha radiant wisd\n",
        " therefore called buddha everlasting light excellent virtue light perceiveth bo\n",
        "a everlasting light excellent virtue light perceiveth born paradise without dis\n",
        "ite boundless therefore known buddha light past comprehension buddhas glorify m\n",
        " speech utter therefore named buddha light unspeakable buddhas glorify glory in\n",
        "fy glory infinite one buddha promise light immeasurable take refuge holiest hol\n",
        "y receive may salvation enlightening light mercy born land pure peace returneth\n",
        "s praise triumphant divinity bringer light gather myriad bodhisattvas unnumbere\n",
        " one sacred body well-spring floweth light ten regions world sacred teaching le\n",
        "None \n",
        "\n",
        "Gemeinsame Kontexte \n",
        "one faith life declared saith soul priest enlightenment teacher"
       ]
      },
      {
       "output_type": "stream",
       "stream": "stdout",
       "text": [
        "\n",
        "None \n",
        "\n",
        "No common contexts were found\n",
        "None \n",
        "\n",
        "\n",
        "\n",
        "\n"
       ]
      }
     ],
     "prompt_number": 7
    },
    {
     "cell_type": "heading",
     "level": 4,
     "metadata": {},
     "source": [
      "Grundlegenden Eigenschaften"
     ]
    },
    {
     "cell_type": "markdown",
     "metadata": {},
     "source": [
      "Light ist ein gutes Beispiel f\u00fcr die Bedeutungsvielfalt einzelner W\u00f6rter.\n",
      "Licht im Kontext eines Mikroskopslichts bei Ross um das Objekt zu untersuchen, das vor allem im Kontext technischer Anwendung und Begriffe steht.\n",
      "Oder im privaten Kontext (family, street, dinner, sleep) wie es in der *Verwandlung* verwendet wird.\n",
      "\n",
      "Dagegen wirkt das Wort wiederum vollkommen anders, wenn es im religi\u00f6sen Kontext zusammen glory, universal oder illumination steht. Es findet im 1. und 3. Werk einige Verwendung, die sich im Gesamtkontext jedoch komplett unterscheidet.\n"
     ]
    },
    {
     "cell_type": "heading",
     "level": 4,
     "metadata": {},
     "source": [
      "H\u00e4ufigkeitsverteilung der Tokens in allen drei Texte und plotten der kummulative Verteilung der 25 h\u00e4ufigsten Token."
     ]
    },
    {
     "cell_type": "code",
     "collapsed": false,
     "input": [
      "import  matplotlib\n",
      "import matplotlib.pyplot as plt\n",
      "%matplotlib inline\n",
      "\n",
      "\n",
      "###_Kafka\n",
      "fdistkafka = nltk.FreqDist([token for token in kafkatokens])\n",
      "print 'Kafka:', 'N =',fdistkafka.N() #Gesamtzahl\n",
      "plt.rc('figure', figsize=(8, 4.5))\n",
      "fdistkafka.plot(25, cumulative=True)\n",
      "\n",
      "###Ross\n",
      "fdistross = nltk.FreqDist([token for token in rosstokens])\n",
      "print 'Ross:', 'N =',fdistross.N() \n",
      "plt.rc('figure', figsize=(8, 4.5))\n",
      "fdistross.plot(25, cumulative=True)\n",
      "\n",
      "###Shonin\n",
      "fdistshonin = nltk.FreqDist([token for token in shonintokens])\n",
      "print 'Shonin:', 'N =',fdistshonin.N() \n",
      "plt.rc('figure', figsize=(8, 4.5))\n",
      "fdistshonin.plot(25, cumulative=True)"
     ],
     "language": "python",
     "metadata": {
      "slideshow": {
       "slide_type": "-"
      }
     },
     "outputs": [
      {
       "output_type": "stream",
       "stream": "stdout",
       "text": [
        "Kafka: N = 10077\n"
       ]
      },
      {
       "metadata": {},
       "output_type": "display_data",
       "png": "[encoded data removed]",
       "text": [
        "<matplotlib.figure.Figure at 0x7f46f02fd450>"
       ]
      },
      {
       "output_type": "stream",
       "stream": "stdout",
       "text": [
        "Ross: N = 6857\n"
       ]
      },
      {
       "metadata": {},
       "output_type": "display_data",
       "png": "[encoded data removed]",
       "text": [
        "<matplotlib.figure.Figure at 0x7f46f02fd390>"
       ]
      },
      {
       "output_type": "stream",
       "stream": "stdout",
       "text": [
        "Shonin: N = 7745\n"
       ]
      },
      {
       "metadata": {},
       "output_type": "display_data",
       "png": "[encoded data removed]",
       "text": [
        "<matplotlib.figure.Figure at 0x7f46c27c0c90>"
       ]
      }
     ],
     "prompt_number": 8
    },
    {
     "cell_type": "heading",
     "level": 4,
     "metadata": {},
     "source": [
      "Nutzen von regul\u00e4ren Ausdr\u00fccke um den Kopf, der die Meta-Daten der Projekt Gutenberg Texte enth\u00e4lt, zu entfernen. "
     ]
    },
    {
     "cell_type": "code",
     "collapsed": false,
     "input": [
      "####Header\n",
      "def remove_header(text):\n",
      "    return text.join(re.split(r'(START OF THIS PROJECT GUTENBERG EBOOK).*([\\n\\r])+',text)[-1:])\n",
      "\n",
      "##Test:\n",
      "test = remove_header(kafka_orig)\n",
      "print 'ALT:', kafka_orig[:500], '\\n','\\n', 'NEU:', test[:500] \n",
      "\n",
      "#Die RE hat funktioniert, es bleiben jedoch letzte Informationen im Kopf wie Copyright, die Onlinesteller usw.\n",
      "#Dieser 2. Kopf unterscheidet sich von Text zu Text, es ist kein Schema zu erkennen, das garantieren w\u00fcrde,\n",
      "#dass die Funktion auf -alle- Texte im Gutenberg-Projekt angewandt werden k\u00f6nnte.\n",
      "\n",
      "\n",
      "####footer\n",
      "def remove_footer(text):\n",
      "    return text.join(re.split(r'[\\r\\n]*End of the Project Gutenberg EBook of',text)[:-1])\n",
      "\n",
      "test2 = remove_footer(kafka_orig)\n",
      "#print 'ALT:', kafka_orig[-500:-1], '\\n','\\n', 'NEU:', test2[-500:-1]\n"
     ],
     "language": "python",
     "metadata": {},
     "outputs": [
      {
       "output_type": "stream",
       "stream": "stdout",
       "text": [
        "ALT: The Project Gutenberg EBook of Metamorphosis, by Franz Kafka\r\n",
        "Translated by David Wyllie.\r\n",
        "\r\n",
        "This eBook is for the use of anyone anywhere at no cost and with\r\n",
        "almost no restrictions whatsoever.  You may copy it, give it away or\r\n",
        "re-use it under the terms of the Project Gutenberg License included\r\n",
        "with this eBook or online at www.gutenberg.net\r\n",
        "\r\n",
        "** This is a COPYRIGHTED Project Gutenberg eBook, Details Below **\r\n",
        "**     Please follow the copyright guidelines in this file.     **\r\n",
        "\r\n",
        "\r\n",
        "Title: Metam \n",
        "\n",
        "NEU: Copyright (C) 2002 David Wyllie.\r\n",
        "\r\n",
        "\r\n",
        "\r\n",
        "\r\n",
        "\r\n",
        "  Metamorphosis\r\n",
        "  Franz Kafka\r\n",
        "\r\n",
        "Translated by David Wyllie\r\n",
        "\r\n",
        "\r\n",
        "\r\n",
        "I\r\n",
        "\r\n",
        "\r\n",
        "One morning, when Gregor Samsa woke from troubled dreams, he found\r\n",
        "himself transformed in his bed into a horrible vermin.  He lay on\r\n",
        "his armour-like back, and if he lifted his head a little he could\r\n",
        "see his brown belly, slightly domed and divided by arches into stiff\r\n",
        "sections.  The bedding was hardly able to cover it and seemed ready\r\n",
        "to slide off any moment.  His many legs,\n"
       ]
      }
     ],
     "prompt_number": 9
    },
    {
     "cell_type": "heading",
     "level": 4,
     "metadata": {},
     "source": [
      "12. Stellen sie die grammatikalische Grundform der Tokens aller drei Texte her. (Keine vollst\u00e4ndige Ausgabe notwendig!)"
     ]
    },
    {
     "cell_type": "code",
     "collapsed": false,
     "input": [
      "#Das Zur\u00fcckf\u00fchren von deklinierten Worten auf ihre grammatikalische Grundform kann entweder \n",
      "#mittels eines Algorithmus (stemming) oder \u00fcber ein festes Diktion\u00e4r (Lemmatisierung)\n",
      "\n",
      "###Stemmer\n",
      "porter = nltk.PorterStemmer()\n",
      "rossstemmer = [porter.stem(t) for t in rosstokens]\n",
      "kafkastemmer = [porter.stem(t) for t in kafkatokens]\n",
      "shoninstemmer = [porter.stem(t) for t in shonintokens]\n",
      "\n",
      "###Lemmatisierung\n",
      "wnl = nltk.WordNetLemmatizer()\n",
      "rosslemma = zip([porter.stem(t) for t in rosstokens], [wnl.lemmatize(t) for t in rosstokens])\n",
      "kafkalemma = zip([porter.stem(t) for t in kafkatokens], [wnl.lemmatize(t) for t in kafkatokens])\n",
      "shoninlemma = zip([porter.stem(t) for t in shonintokens], [wnl.lemmatize(t) for t in shonintokens])\n",
      "\n",
      "###Vergleich beider Verfahren und der Urspr\u00fcnglichen Tokens\n",
      "print 'Ross', '\\n', rossstemmer[:10], '\\n', rosstokens[:10], '\\n',rosslemma[:10], '\\n'\n",
      "print 'Kafka', '\\n', kafkastemmer[:10], '\\n', kafkatokens[:10], '\\n',kafkalemma[:10], '\\n'\n",
      "print 'Shonin', '\\n', shoninstemmer[:10], '\\n', shonintokens[:10], '\\n',shoninlemma[:10], '\\n'"
     ],
     "language": "python",
     "metadata": {},
     "outputs": [
      {
       "output_type": "stream",
       "stream": "stdout",
       "text": [
        "Ross \n",
        "[u'microscop', u'name', u'instrument', u'enabl', u'eye', u'see', u'distinctli', u'object', u'place', u'short'] \n",
        "['microscope', 'name', 'instrument', 'enabling', 'eye', 'see', 'distinctly', 'objects', 'placed', 'short'] \n",
        "[(u'microscop', 'microscope'), (u'name', 'name'), (u'instrument', 'instrument'), (u'enabl', 'enabling'), (u'eye', 'eye'), (u'see', 'see'), (u'distinctli', 'distinctly'), (u'object', u'object'), (u'place', 'placed'), (u'short', 'short')] \n",
        "\n",
        "Kafka \n",
        "[u'one', u'morn', u'gregor', u'samsa', u'woke', u'troubl', u'dream', u'found', u'transform', u'bed'] \n",
        "['one', 'morning', 'gregor', 'samsa', 'woke', 'troubled', 'dreams', 'found', 'transformed', 'bed'] \n",
        "[(u'one', 'one'), (u'morn', 'morning'), (u'gregor', 'gregor'), (u'samsa', 'samsa'), (u'woke', 'woke'), (u'troubl', 'troubled'), (u'dream', u'dream'), (u'found', 'found'), (u'transform', 'transformed'), (u'bed', 'bed')] \n",
        "\n",
        "Shonin \n",
        "[u'singular', u'fact', u'though', u'mani', u'earlier', u'buddhist', u'scriptur', u'translat', u'compet', u'scholar'] \n",
        "['singular', 'fact', 'though', 'many', 'earlier', 'buddhist', 'scriptures', 'translated', 'competent', 'scholars'] \n",
        "[(u'singular', 'singular'), (u'fact', 'fact'), (u'though', 'though'), (u'mani', 'many'), (u'earlier', 'earlier'), (u'buddhist', 'buddhist'), (u'scriptur', u'scripture'), (u'translat', 'translated'), (u'compet', 'competent'), (u'scholar', u'scholar')] \n",
        "\n"
       ]
      }
     ],
     "prompt_number": 10
    },
    {
     "cell_type": "heading",
     "level": 4,
     "metadata": {},
     "source": [
      "13. Erzeugen sie mittels der Funktion f\u00fcr bedingte H\u00e4ufigkeiten eine Tabelle, welche die Verteilung von zehn ausgew\u00e4hlten Token \u00fcber alle drei Texte zeigt. (Token als Zeilen, Texte als Spalten)."
     ]
    },
    {
     "cell_type": "code",
     "collapsed": false,
     "input": [
      "tokens = ['death', 'could', 'hope', 'faith', 'father', 'distance', 'primise', 'light', 'time', 'home']\n",
      "\n",
      "texts = {'kafka': kafkatokens, 'ross': rosstokens, 'shonin':  shonintokens }\n",
      "\n",
      "lot = [(token, text)\n",
      "       for text in texts\n",
      "       for token  in texts[text]]\n",
      "\n",
      "cfd = nltk.ConditionalFreqDist(lot)\n",
      "cfd.tabulate(conditions=tokens, samples=texts)\n"
     ],
     "language": "python",
     "metadata": {},
     "outputs": [
      {
       "output_type": "stream",
       "stream": "stdout",
       "text": [
        "         ross shonin kafka \n",
        "   death    0   35    3 \n",
        "   could    8    6  126 \n",
        "    hope    0   13    4 \n",
        "   faith    0   72    0 \n",
        "  father    0   26  102 \n",
        "distance   52    0    3 \n",
        " primise    0    0    0 \n",
        "   light   70   78    7 \n",
        "    time   10   25   59 \n",
        "    home    0    2   19 \n"
       ]
      }
     ],
     "prompt_number": 11
    }
   ],
   "metadata": {}
  }
 ]
}